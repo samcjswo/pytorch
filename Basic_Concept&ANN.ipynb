{
 "cells": [
  {
   "cell_type": "code",
   "execution_count": 1,
   "id": "df879c75-19e2-449f-9c6e-0af01c1d2980",
   "metadata": {},
   "outputs": [],
   "source": [
    "import torch"
   ]
  },
  {
   "cell_type": "code",
   "execution_count": 2,
   "id": "d49f4fd7-79b4-4d0c-99c3-ba073874dbb8",
   "metadata": {},
   "outputs": [
    {
     "name": "stdout",
     "output_type": "stream",
     "text": [
      "tensor([[1, 2, 3],\n",
      "        [4, 5, 6],\n",
      "        [7, 8, 9]])\n"
     ]
    }
   ],
   "source": [
    "x = torch.tensor([[1, 2, 3], [4, 5, 6], [7, 8, 9]])\n",
    "print(x)"
   ]
  },
  {
   "cell_type": "code",
   "execution_count": 3,
   "id": "ef4f653d-97e0-48b0-870c-7cf51d8c83d6",
   "metadata": {},
   "outputs": [
    {
     "name": "stdout",
     "output_type": "stream",
     "text": [
      "Size: torch.Size([3, 3])\n",
      "Shape: torch.Size([3, 3])\n",
      "Rank: 2\n"
     ]
    }
   ],
   "source": [
    "print(\"Size:\", x.size())\n",
    "print(\"Shape:\", x.shape)\n",
    "print(\"Rank:\", x.ndimension())"
   ]
  },
  {
   "cell_type": "code",
   "execution_count": 4,
   "id": "f130ee4a-b8fb-4924-9e2d-e0ddcb994ece",
   "metadata": {},
   "outputs": [
    {
     "name": "stdout",
     "output_type": "stream",
     "text": [
      "tensor([[[1, 2, 3],\n",
      "         [4, 5, 6],\n",
      "         [7, 8, 9]]])\n",
      "Size: torch.Size([1, 3, 3])\n",
      "Shape: torch.Size([1, 3, 3])\n",
      "Rank: 3\n"
     ]
    }
   ],
   "source": [
    "# increase rank\n",
    "x = torch.unsqueeze(x, 0)\n",
    "print(x)\n",
    "print(\"Size:\", x.size())\n",
    "print(\"Shape:\", x.shape)\n",
    "print(\"Rank:\", x.ndimension())"
   ]
  },
  {
   "cell_type": "code",
   "execution_count": 5,
   "id": "fdf36b2a-f2a8-4f8b-8b77-e00f5f19ed12",
   "metadata": {},
   "outputs": [
    {
     "name": "stdout",
     "output_type": "stream",
     "text": [
      "tensor([[1, 2, 3],\n",
      "        [4, 5, 6],\n",
      "        [7, 8, 9]])\n",
      "Size: torch.Size([3, 3])\n",
      "Shape: torch.Size([3, 3])\n",
      "Rank: 2\n"
     ]
    }
   ],
   "source": [
    "# reduce rank\n",
    "x = torch.squeeze(x)\n",
    "print(x)\n",
    "print(\"Size:\", x.size())\n",
    "print(\"Shape:\", x.shape)\n",
    "print(\"Rank:\", x.ndimension())"
   ]
  },
  {
   "cell_type": "code",
   "execution_count": 6,
   "id": "6c03314f-70ae-41fb-a453-f8e29a1a543d",
   "metadata": {},
   "outputs": [
    {
     "name": "stdout",
     "output_type": "stream",
     "text": [
      "tensor([1, 2, 3, 4, 5, 6, 7, 8, 9])\n",
      "Size: torch.Size([9])\n",
      "Shape: torch.Size([9])\n",
      "Rank: 1\n"
     ]
    }
   ],
   "source": [
    "x = x.view(9)\n",
    "print(x)\n",
    "print(\"Size:\", x.size())\n",
    "print(\"Shape:\", x.shape)\n",
    "print(\"Rank:\", x.ndimension())"
   ]
  },
  {
   "cell_type": "code",
   "execution_count": 7,
   "id": "df68c8df-7481-41ba-94e4-00391c4a9fa3",
   "metadata": {},
   "outputs": [
    {
     "name": "stdout",
     "output_type": "stream",
     "text": [
      "shape '[2, 4]' is invalid for input of size 9\n"
     ]
    }
   ],
   "source": [
    "try:\n",
    "    x = x.view(2, 4)\n",
    "except Exception as e:\n",
    "    print(e)"
   ]
  },
  {
   "cell_type": "code",
   "execution_count": 8,
   "id": "f644755e-2e12-4d74-9b92-592f6e3e5d01",
   "metadata": {},
   "outputs": [
    {
     "name": "stdout",
     "output_type": "stream",
     "text": [
      "w size: torch.Size([5, 3])\n",
      "x size: torch.Size([3, 2])\n",
      "w: tensor([[ 0.9174, -0.8872,  1.4009],\n",
      "        [ 1.0458, -0.0122,  0.6954],\n",
      "        [-0.6098,  0.0868, -1.0878],\n",
      "        [ 1.5969,  0.9144,  0.5928],\n",
      "        [ 0.6183,  1.0645,  0.4135]])\n",
      "x: tensor([[1., 2.],\n",
      "        [3., 4.],\n",
      "        [5., 6.]])\n"
     ]
    }
   ],
   "source": [
    "w = torch.randn(5, 3, dtype=torch.float)\n",
    "x = torch.tensor([[1.0, 2.0], [3.0, 4.0], [5.0, 6.0]])\n",
    "print(\"w size:\", w.size())\n",
    "print(\"x size:\", x.size())\n",
    "print(\"w:\", w)\n",
    "print(\"x:\", x)"
   ]
  },
  {
   "cell_type": "code",
   "execution_count": 9,
   "id": "ea9b7179-e314-48d3-a019-7434bb186c65",
   "metadata": {},
   "outputs": [
    {
     "name": "stdout",
     "output_type": "stream",
     "text": [
      "b size: torch.Size([5, 2])\n",
      "b: tensor([[ 0.6081,  1.1841],\n",
      "        [ 2.2210,  0.0593],\n",
      "        [-0.3972, -0.6384],\n",
      "        [ 1.1867,  0.6604],\n",
      "        [-0.5867,  0.1903]])\n"
     ]
    }
   ],
   "source": [
    "b = torch.randn(5, 2, dtype=torch.float)\n",
    "print(\"b size:\", b.size())\n",
    "print(\"b:\", b)"
   ]
  },
  {
   "cell_type": "code",
   "execution_count": 10,
   "id": "4ca6abe3-5956-4be2-8b6c-c29846fbb811",
   "metadata": {},
   "outputs": [
    {
     "name": "stdout",
     "output_type": "stream",
     "text": [
      "wx size: torch.Size([5, 2])\n",
      "wx: tensor([[ 5.2605,  6.6916],\n",
      "        [ 4.4860,  6.2149],\n",
      "        [-5.7885, -7.3994],\n",
      "        [ 7.3042, 10.4083],\n",
      "        [ 5.8793,  7.9756]])\n"
     ]
    }
   ],
   "source": [
    "wx = torch.mm(w, x) # shape should be [5, 2]\n",
    "print(\"wx size:\", wx.size())\n",
    "print(\"wx:\", wx)"
   ]
  },
  {
   "cell_type": "code",
   "execution_count": 11,
   "id": "b740012b-18ec-478b-a64c-9d43afea3658",
   "metadata": {},
   "outputs": [
    {
     "name": "stdout",
     "output_type": "stream",
     "text": [
      "result size: torch.Size([5, 2])\n",
      "result: tensor([[ 5.8686,  7.8757],\n",
      "        [ 6.7070,  6.2742],\n",
      "        [-6.1857, -8.0377],\n",
      "        [ 8.4909, 11.0688],\n",
      "        [ 5.2926,  8.1659]])\n"
     ]
    }
   ],
   "source": [
    "result = wx + b \n",
    "print(\"result size:\", result.size())\n",
    "print(\"result:\", result)"
   ]
  },
  {
   "cell_type": "markdown",
   "id": "e0b6f6ca-137a-4c2a-8db2-79812685da08",
   "metadata": {},
   "source": [
    "#### Autograd"
   ]
  },
  {
   "cell_type": "code",
   "execution_count": 12,
   "id": "9aeed47c-1e46-4d41-8dc8-51167a94f876",
   "metadata": {},
   "outputs": [],
   "source": [
    "w = torch.tensor(1.0, requires_grad=True)"
   ]
  },
  {
   "cell_type": "code",
   "execution_count": 13,
   "id": "fca9d8a2-8302-4025-b9f6-0432e8570d2d",
   "metadata": {},
   "outputs": [],
   "source": [
    "a = w*3"
   ]
  },
  {
   "cell_type": "code",
   "execution_count": 14,
   "id": "a6d1a2e9-073c-4962-9f1a-f8cba81ee85c",
   "metadata": {},
   "outputs": [],
   "source": [
    "l = a**2"
   ]
  },
  {
   "cell_type": "markdown",
   "id": "c6d20ab8-2002-4f25-a238-a93cb90ca669",
   "metadata": {},
   "source": [
    "l = a^2 = (3w)^2 = 9w^2"
   ]
  },
  {
   "cell_type": "code",
   "execution_count": 15,
   "id": "d79548dd-ef80-4a5d-ac97-7d1a83868245",
   "metadata": {},
   "outputs": [
    {
     "name": "stdout",
     "output_type": "stream",
     "text": [
      "derivative of l 18.0\n"
     ]
    }
   ],
   "source": [
    "l.backward()\n",
    "print(\"derivative of l {}\".format(w.grad))"
   ]
  },
  {
   "cell_type": "markdown",
   "id": "4ebdc621-5ec6-4f76-aa38-c4f70a328747",
   "metadata": {},
   "source": [
    "## 경사하강법으로 이미지 복원하기\n",
    "\n",
    "이번 프로젝트에서 우리가 풀 문제는 다음과 같습니다.\n",
    "\n",
    "이미지 처리를 위해 만들어 두었던 weird_function() 함수에 실수로 버그가 들어가 100×100 픽셀의 오염된 미미지가 만들어졌습니다. 이 오염된 이미지와 오염되기 전 원본 이미지를 동시에 파일로 저장하려고 했으나, 모종의 이유로 원본 이미지 파일은 삭제된 상황입니다. 다행히도 weird_function()의 소스코드는 남아 있습니다. 오염된 이미지와 weird_function()을 활용해 원본 이미지를 복원해봅시다.\n"
   ]
  },
  {
   "cell_type": "code",
   "execution_count": 16,
   "id": "71b38b90-246c-421a-85b2-c8c3f5ad7957",
   "metadata": {},
   "outputs": [],
   "source": [
    "import torch\n",
    "import pickle\n",
    "import matplotlib.pyplot as plt"
   ]
  },
  {
   "cell_type": "code",
   "execution_count": 17,
   "id": "20f030a5-b209-4226-86e1-7f98938431b5",
   "metadata": {},
   "outputs": [],
   "source": [
    "shp_original_img = (100, 100)\n",
    "broken_image =  torch.FloatTensor( pickle.load(open('../../penguin_pytorch/3-min-pytorch/03-파이토치로_구현하는_ANN/broken_image_t.p', 'rb'),encoding='latin1' ) )"
   ]
  },
  {
   "cell_type": "code",
   "execution_count": 18,
   "id": "59ff271a-fd7e-4dea-9869-546e36c491ef",
   "metadata": {},
   "outputs": [
    {
     "data": {
      "text/plain": [
       "torch.Size([10000])"
      ]
     },
     "execution_count": 18,
     "metadata": {},
     "output_type": "execute_result"
    }
   ],
   "source": [
    "broken_image.size()"
   ]
  },
  {
   "cell_type": "code",
   "execution_count": 19,
   "id": "2b65c833-5b40-4089-8786-cc0d3ab60165",
   "metadata": {},
   "outputs": [
    {
     "data": {
      "text/plain": [
       "<matplotlib.image.AxesImage at 0x7f9fa66e5df0>"
      ]
     },
     "execution_count": 19,
     "metadata": {},
     "output_type": "execute_result"
    },
    {
     "data": {
      "image/png": "[encoded data removed]",
      "text/plain": [
       "<Figure size 640x480 with 1 Axes>"
      ]
     },
     "metadata": {},
     "output_type": "display_data"
    }
   ],
   "source": [
    "plt.imshow(broken_image.view(100, 100))"
   ]
  },
  {
   "cell_type": "code",
   "execution_count": 20,
   "id": "396fae55-10e2-423d-8acd-20e6ddb5e609",
   "metadata": {},
   "outputs": [],
   "source": [
    "def weird_function(x, n_iter=5):\n",
    "    h = x    \n",
    "    filt = torch.tensor([-1./3, 1./3, -1./3])\n",
    "    for i in range(n_iter):\n",
    "        zero_tensor = torch.tensor([1.0*0])\n",
    "        h_l = torch.cat( (zero_tensor, h[:-1]), 0)\n",
    "        h_r = torch.cat((h[1:], zero_tensor), 0 )\n",
    "        h = filt[0] * h + filt[2] * h_l + filt[1] * h_r\n",
    "        if i % 2 == 0:\n",
    "            h = torch.cat( (h[h.shape[0]//2:],h[:h.shape[0]//2]), 0  )\n",
    "    return h"
   ]
  },
  {
   "cell_type": "code",
   "execution_count": 21,
   "id": "48e34135-0485-4817-b94c-7bb47166d25c",
   "metadata": {},
   "outputs": [],
   "source": [
    "## Hypothesis 와 broken image 의 오차 계산 함수\n",
    "def distance_loss(hypothesis, broken_image):\n",
    "    return torch.dist(hypothesis, broken_image)"
   ]
  },
  {
   "cell_type": "code",
   "execution_count": 22,
   "id": "8d5242e3-1ee5-463d-9bb4-6d20795f6a54",
   "metadata": {},
   "outputs": [],
   "source": [
    "random_tensor = torch.randn(10000, dtype=torch.float)"
   ]
  },
  {
   "cell_type": "code",
   "execution_count": 23,
   "id": "4bf84c3d-2358-4c77-8390-b86582794f33",
   "metadata": {},
   "outputs": [
    {
     "name": "stdout",
     "output_type": "stream",
     "text": [
      "Loss at 0 = 12.451753616333008\n",
      "Loss at 1000 = 1.1573976278305054\n",
      "Loss at 2000 = 0.5503696799278259\n",
      "Loss at 3000 = 0.37882643938064575\n",
      "Loss at 4000 = 0.30002081394195557\n",
      "Loss at 5000 = 0.25239571928977966\n",
      "Loss at 6000 = 0.21825096011161804\n",
      "Loss at 7000 = 0.19102713465690613\n",
      "Loss at 8000 = 0.16785000264644623\n",
      "Loss at 9000 = 0.14726382493972778\n",
      "Loss at 10000 = 0.1284361034631729\n",
      "Loss at 11000 = 0.11085153371095657\n",
      "Loss at 12000 = 0.09417550265789032\n",
      "Loss at 13000 = 0.07818376272916794\n",
      "Loss at 14000 = 0.06272250413894653\n",
      "Loss at 15000 = 0.04768477752804756\n",
      "Loss at 16000 = 0.03299674019217491\n",
      "Loss at 17000 = 0.021124988794326782\n",
      "Loss at 18000 = 0.021164467558264732\n",
      "Loss at 19000 = 0.021166974678635597\n"
     ]
    }
   ],
   "source": [
    "lr = 0.8\n",
    "\n",
    "## 경사하강법 구현\n",
    "for i in range(0, 20000):\n",
    "    random_tensor.requires_grad_(True)\n",
    "    hypothesis = weird_function(random_tensor)\n",
    "    loss = distance_loss(hypothesis, broken_image)\n",
    "    loss.backward()\n",
    "    with torch.no_grad():\n",
    "        random_tensor = random_tensor - lr*random_tensor.grad\n",
    "    if i % 1000 == 0:\n",
    "        print(f'Loss at {i} = {loss.item()}')"
   ]
  },
  {
   "cell_type": "code",
   "execution_count": 24,
   "id": "62f6eb99-b153-42d8-8369-ac973537fffc",
   "metadata": {},
   "outputs": [
    {
     "data": {
      "text/plain": [
       "<matplotlib.image.AxesImage at 0x7f9fa6c94fd0>"
      ]
     },
     "execution_count": 24,
     "metadata": {},
     "output_type": "execute_result"
    },
    {
     "data": {
      "image/png": "[encoded data removed]",
      "text/plain": [
       "<Figure size 640x480 with 1 Axes>"
      ]
     },
     "metadata": {},
     "output_type": "display_data"
    }
   ],
   "source": [
    "plt.imshow(random_tensor.view(100, 100).data)"
   ]
  },
  {
   "cell_type": "markdown",
   "id": "e87ec290-fd58-4c22-9d89-aa038aa8f211",
   "metadata": {},
   "source": [
    "## ANN"
   ]
  },
  {
   "cell_type": "code",
   "execution_count": 25,
   "id": "fed47555-c286-42de-936b-d6035fc59dc4",
   "metadata": {},
   "outputs": [],
   "source": [
    "import torch\n",
    "import numpy as np\n",
    "from sklearn.datasets import make_blobs \n",
    "import matplotlib.pyplot as plt"
   ]
  },
  {
   "cell_type": "code",
   "execution_count": 26,
   "id": "1031c094-fbb9-4321-8b87-3d1b1bbcc4b7",
   "metadata": {},
   "outputs": [],
   "source": [
    "n_dim = 2\n",
    "x_train, y_train = make_blobs(n_samples=80, n_features=n_dim, centers=[[1,1],[-1,-1],[1,-1],[-1,1]], shuffle=True, cluster_std=0.3)\n",
    "x_test, y_test = make_blobs(n_samples=20, n_features=n_dim, centers=[[1,1],[-1,-1],[1,-1],[-1,1]], shuffle=True, cluster_std=0.3)"
   ]
  },
  {
   "cell_type": "code",
   "execution_count": 27,
   "id": "a0fe36aa-934a-4c38-bab6-cd6213658b92",
   "metadata": {},
   "outputs": [],
   "source": [
    "def label_map(y_, from_, to_):\n",
    "    y = np.copy(y_)\n",
    "    for f in from_:\n",
    "        y[y_ == f] = to_\n",
    "    return y\n",
    "\n",
    "y_train = label_map(y_train, [0, 1], 0)\n",
    "y_train = label_map(y_train, [2, 3], 1)\n",
    "y_test = label_map(y_test, [0, 1], 0)\n",
    "y_test = label_map(y_test, [2, 3], 1)"
   ]
  },
  {
   "cell_type": "code",
   "execution_count": 28,
   "id": "8c42e181-0ff6-41d2-a087-88c5aa6de0e9",
   "metadata": {},
   "outputs": [
    {
     "data": {
      "image/png": "[encoded data removed]",
      "text/plain": [
       "<Figure size 640x480 with 1 Axes>"
      ]
     },
     "metadata": {},
     "output_type": "display_data"
    }
   ],
   "source": [
    "def vis_data(x,y = None, c = 'r'):\n",
    "    if y is None:\n",
    "        y = [None] * len(x)\n",
    "    for x_, y_ in zip(x,y):\n",
    "        if y_ is None:\n",
    "            plt.plot(x_[0], x_[1], '*',markerfacecolor='none', markeredgecolor=c)\n",
    "        else:\n",
    "            plt.plot(x_[0], x_[1], c+'o' if y_ == 0 else c+'+')\n",
    "\n",
    "plt.figure()\n",
    "vis_data(x_train, y_train, c='r')\n",
    "plt.show()"
   ]
  },
  {
   "cell_type": "code",
   "execution_count": 29,
   "id": "c0494c70-e0f5-47cf-9e4a-f85b7b327ba6",
   "metadata": {},
   "outputs": [
    {
     "name": "stdout",
     "output_type": "stream",
     "text": [
      "torch.Size([80, 2])\n"
     ]
    }
   ],
   "source": [
    "x_train = torch.FloatTensor(x_train)\n",
    "print(x_train.shape)\n",
    "x_test = torch.FloatTensor(x_test)\n",
    "y_train = torch.FloatTensor(y_train)\n",
    "y_test = torch.FloatTensor(y_test)"
   ]
  },
  {
   "cell_type": "code",
   "execution_count": 30,
   "id": "4b293f89-e767-477a-a9b5-6576f1c9f37d",
   "metadata": {},
   "outputs": [],
   "source": [
    "class NeuralNet(torch.nn.Module):\n",
    "    def __init__(self, input_size, hidden_size):\n",
    "        super(NeuralNet, self).__init__()\n",
    "        self.input_size = input_size\n",
    "        self.hidden_size = hidden_size\n",
    "        self.linear_1 = torch.nn.Linear(self.input_size, self.hidden_size)\n",
    "        self.relu = torch.nn.ReLU()\n",
    "        self.linear_2 = torch.nn.Linear(self.hidden_size, 1)\n",
    "        self.sigmoid = torch.nn.Sigmoid()\n",
    "        \n",
    "    def forward(self, input_tensor):\n",
    "        linear1 = self.linear_1(input_tensor)\n",
    "        relu = self.relu(linear1)\n",
    "        linear2 = self.linear_2(relu)\n",
    "        output = self.sigmoid(linear2)\n",
    "        return output"
   ]
  },
  {
   "cell_type": "code",
   "execution_count": 31,
   "id": "9018994b-7de7-43c3-86ce-63d862c1dc38",
   "metadata": {},
   "outputs": [],
   "source": [
    "## 모델 생성 및 관련 변수와 알고리즘 정의\n",
    "model = NeuralNet(2, 5)\n",
    "learning_rate = 0.03\n",
    "criterion = torch.nn.BCELoss()\n",
    "epochs = 2000\n",
    "optimizer = torch.optim.SGD(model.parameters(), lr=learning_rate)"
   ]
  },
  {
   "cell_type": "code",
   "execution_count": 32,
   "id": "fbfa91cb-a62e-40d8-a401-0a8fffc94330",
   "metadata": {},
   "outputs": [
    {
     "name": "stdout",
     "output_type": "stream",
     "text": [
      "Before Training, test loss is 0.6880258321762085\n"
     ]
    }
   ],
   "source": [
    "model.eval()\n",
    "test_loss_before = criterion(model(x_test).squeeze(), y_test)\n",
    "print('Before Training, test loss is {}'.format(test_loss_before.item()))"
   ]
  },
  {
   "cell_type": "markdown",
   "id": "6c74849b-9771-466b-8734-1994620ed033",
   "metadata": {},
   "source": [
    "오차값이 0.66 이 나왔습니다. 이정도의 오차를 가진 모델은 사실상 분류하는 능력이 없다고 봐도 무방합니다.\n",
    "자, 이제 드디어 인공신경망을 학습시켜 퍼포먼스를 향상시켜 보겠습니다."
   ]
  },
  {
   "cell_type": "code",
   "execution_count": 33,
   "id": "437fc5c5-29ba-43c7-a518-957ff6c4caa4",
   "metadata": {},
   "outputs": [
    {
     "name": "stdout",
     "output_type": "stream",
     "text": [
      "Train loss at 0 is 0.6799489259719849\n",
      "Train loss at 100 is 0.6138755083084106\n",
      "Train loss at 200 is 0.5329579710960388\n",
      "Train loss at 300 is 0.4305679202079773\n",
      "Train loss at 400 is 0.318173348903656\n",
      "Train loss at 500 is 0.22215072810649872\n",
      "Train loss at 600 is 0.15626798570156097\n",
      "Train loss at 700 is 0.11458499729633331\n",
      "Train loss at 800 is 0.0878569558262825\n",
      "Train loss at 900 is 0.07001081109046936\n",
      "Train loss at 1000 is 0.05757322907447815\n",
      "Train loss at 1100 is 0.0485338494181633\n",
      "Train loss at 1200 is 0.04171337932348251\n",
      "Train loss at 1300 is 0.03641809895634651\n",
      "Train loss at 1400 is 0.03220761567354202\n",
      "Train loss at 1500 is 0.028791893273591995\n",
      "Train loss at 1600 is 0.025980111211538315\n",
      "Train loss at 1700 is 0.023627975955605507\n",
      "Train loss at 1800 is 0.021638046950101852\n",
      "Train loss at 1900 is 0.019931523129343987\n"
     ]
    }
   ],
   "source": [
    "## 신경망 학습\n",
    "for epoch in range(epochs):\n",
    "    model.train()\n",
    "    optimizer.zero_grad()\n",
    "    train_output = model(x_train)\n",
    "    train_loss = criterion(train_output.squeeze(), y_train)\n",
    "    if epoch % 100 == 0:\n",
    "        print('Train loss at {} is {}'.format(epoch, train_loss.item()))\n",
    "    train_loss.backward()\n",
    "    optimizer.step()"
   ]
  },
  {
   "cell_type": "code",
   "execution_count": 34,
   "id": "b8f99c52-1283-4048-b327-98a890c7a2b4",
   "metadata": {},
   "outputs": [
    {
     "name": "stdout",
     "output_type": "stream",
     "text": [
      "After Training, test loss is 0.030465688556432724\n"
     ]
    }
   ],
   "source": [
    "## 학습 후 모델 성능 평가\n",
    "model.eval()\n",
    "test_loss = criterion(torch.squeeze(model(x_test)), y_test)\n",
    "print('After Training, test loss is {}'.format(test_loss.item()))"
   ]
  },
  {
   "cell_type": "markdown",
   "id": "0dc68e86-3a39-4abb-9174-bdd738d36c40",
   "metadata": {},
   "source": [
    "학습을 하기 전과 비교했을때 현저하게 줄어든 오차값을 확인 하실 수 있습니다.\n",
    "지금까지 인공신경망을 구현하고 학습시켜 보았습니다.\n",
    "이제 학습된 모델을 .pt 파일로 저장해 보겠습니다."
   ]
  },
  {
   "cell_type": "code",
   "execution_count": 35,
   "id": "093b134e-5325-4846-b28c-e7d35ae2d3f2",
   "metadata": {},
   "outputs": [
    {
     "name": "stdout",
     "output_type": "stream",
     "text": [
      "state_dict format of the model: OrderedDict([('linear_1.weight', tensor([[-1.2966, -1.3400],\n",
      "        [ 1.5969, -1.3572],\n",
      "        [-0.1320, -0.5916],\n",
      "        [ 1.6716,  1.5630],\n",
      "        [-1.3113,  1.6235]])), ('linear_1.bias', tensor([0.0449, 0.0826, 0.0168, 0.1027, 0.0205])), ('linear_2.weight', tensor([[-1.7967,  1.9571, -0.2307, -2.1367,  1.9643]])), ('linear_2.bias', tensor([-0.0913]))])\n"
     ]
    }
   ],
   "source": [
    "## 학습된 가중치 저장\n",
    "torch.save(model.state_dict(), './model.pt')\n",
    "print('state_dict format of the model: {}'.format(model.state_dict()))"
   ]
  },
  {
   "cell_type": "markdown",
   "id": "34201359-6519-4ff8-b465-bc1db444afcb",
   "metadata": {},
   "source": [
    "`save()` 를 실행하고 나면 학습된 신경망의 가중치를 내포하는 model.pt 라는 파일이 생성됩니다. 아래 코드처럼 새로운 신경망 객체에 model.pt 속의 가중치값을 입력시키는 것 또한 가능합니다."
   ]
  },
  {
   "cell_type": "code",
   "execution_count": 36,
   "id": "1e9c98b1-549a-44c7-8496-eb49b621e65b",
   "metadata": {},
   "outputs": [
    {
     "name": "stdout",
     "output_type": "stream",
     "text": [
      "벡터 [-1, 1]이 레이블 1을 가질 확률은 0.9967021346092224\n"
     ]
    }
   ],
   "source": [
    "## 저장된 가중치를 불러와 새로운 모델에 적용 (전이 학습)\n",
    "new_model = NeuralNet(2, 5)\n",
    "new_model.load_state_dict(torch.load('./model.pt'))\n",
    "new_model.eval()\n",
    "print('벡터 [-1, 1]이 레이블 1을 가질 확률은 {}'.format(new_model(torch.FloatTensor([-1,1])).item()))"
   ]
  }
 ],
 "metadata": {
  "kernelspec": {
   "display_name": "Python 3 (ipykernel)",
   "language": "python",
   "name": "python3"
  },
  "language_info": {
   "codemirror_mode": {
    "name": "ipython",
    "version": 3
   },
   "file_extension": ".py",
   "mimetype": "text/x-python",
   "name": "python",
   "nbconvert_exporter": "python",
   "pygments_lexer": "ipython3",
   "version": "3.8.16"
  }
 },
 "nbformat": 4,
 "nbformat_minor": 5
}
