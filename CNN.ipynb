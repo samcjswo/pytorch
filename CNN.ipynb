{
 "cells": [
  {
   "cell_type": "markdown",
   "id": "700c2c89-1039-43f0-b2f3-bba954126076",
   "metadata": {},
   "source": [
    "# CNN"
   ]
  },
  {
   "cell_type": "markdown",
   "id": "97d45e35-fa37-46ad-bd89-f119e77e75da",
   "metadata": {},
   "source": [
    "- 필터를 적용할때 이미지 왼쪽 위에서 오른쪽 밑까지 밀어가며 곱하고 더하는 작업을 Convolution 이라고 함\n",
    "- CNN 은 이미지를 추출하는 필터를 학습\n",
    "- CNN 은 Convolution layer 와 Pooling Layer 로 구성되어 있음\n",
    "    - Convolution Layer: 이미지의 특징을 추출하는 역할\n",
    "    - Pooling Layer: 필터를 거친 여러 특징 중 가장 중요한 특징 하나를 골라냄\n",
    "        - 덜 중요한 특징을 버리기 때문에 이미지의 차원이 감소\n",
    "- CNN 은 사물이 조금만 치우쳐져도 인식하지 못하던 인공 신경망의 문제를 이미지 전체에 필터를 적용해 특징을 추출하는 방식으로 해결해줌\n",
    "    - 이미지 크기만큼의 가중치를 가져야 하는 일반 인공 신경망과는 다르게 필터만을 학습시키면 되어 훨씬 적은 계산량으로 효율적인 학습이 가능 "
   ]
  },
  {
   "cell_type": "code",
   "execution_count": 1,
   "id": "5c691ea3-3bce-4db4-9402-cff42d5114bf",
   "metadata": {},
   "outputs": [],
   "source": [
    "import torch\n",
    "import torch.nn as nn\n",
    "import torch.optim as optim\n",
    "import torch.nn.functional as F\n",
    "from torchvision import transforms, datasets"
   ]
  },
  {
   "cell_type": "code",
   "execution_count": 2,
   "id": "6525c2c4-ea5b-40d8-8b37-a30f99f7ced9",
   "metadata": {},
   "outputs": [],
   "source": [
    "USE_CUDA = torch.cuda.is_available()\n",
    "DEVICE = torch.device(\"cuda\" if USE_CUDA else \"cpu\")"
   ]
  },
  {
   "cell_type": "code",
   "execution_count": 3,
   "id": "1ae0a121-e07f-4043-818a-5cf61671daa7",
   "metadata": {},
   "outputs": [],
   "source": [
    "EPOCHS = 10 # 원래 40 이지만 시간을 위해 10으로 변경\n",
    "BATCH_SIZE = 64"
   ]
  },
  {
   "cell_type": "markdown",
   "id": "d82fd751-9e6d-4b53-90f3-89deeba09081",
   "metadata": {},
   "source": [
    "#### 데이터셋 불러오기"
   ]
  },
  {
   "cell_type": "code",
   "execution_count": 4,
   "id": "377f9045-ddff-41ec-b809-2a972ffd04dc",
   "metadata": {},
   "outputs": [],
   "source": [
    "train_loader = torch.utils.data.DataLoader(\n",
    "    datasets.MNIST('./.data',\n",
    "                   train=True,\n",
    "                   download=True,\n",
    "                   transform=transforms.Compose([\n",
    "                       transforms.ToTensor(),\n",
    "                       transforms.Normalize((0.1307,), (0.3081,))\n",
    "                   ])),\n",
    "    batch_size=BATCH_SIZE, shuffle=True)\n",
    "test_loader = torch.utils.data.DataLoader(\n",
    "    datasets.MNIST('./.data',\n",
    "                   train=False, \n",
    "                   transform=transforms.Compose([\n",
    "                       transforms.ToTensor(),\n",
    "                       transforms.Normalize((0.1307,), (0.3081,))\n",
    "                   ])),\n",
    "    batch_size=BATCH_SIZE, shuffle=True)"
   ]
  },
  {
   "cell_type": "markdown",
   "id": "9a0d307e-c1e3-42a4-b5a1-112c94092355",
   "metadata": {},
   "source": [
    "#### 뉴럴넷으로 Fashion MNIST 학습하기"
   ]
  },
  {
   "cell_type": "code",
   "execution_count": 5,
   "id": "005ca571-0c47-4f66-879d-194d8aabab3b",
   "metadata": {},
   "outputs": [],
   "source": [
    "class Net(nn.Module):\n",
    "    def __init__(self):\n",
    "        super(Net, self).__init__()\n",
    "        # nn.Conv2d 의 두 파라미터는 입력 채널 수와 출력 채널 수 \n",
    "        self.conv1 = nn.Conv2d(1, 10, kernel_size=5) # kernel 의 크기는 5x5, 흑백이미지이므로 색상채널은 1\n",
    "        self.conv2 = nn.Conv2d(10, 20, kernel_size=5)\n",
    "        self.conv2_drop = nn.Dropout2d()\n",
    "        self.fc1 = nn.Linear(320, 50)\n",
    "        self.fc2 = nn.Linear(50, 10)\n",
    "        \n",
    "    def forward(self, x):\n",
    "        x = F.relu(F.max_pool2d(self.conv1(x), 2))\n",
    "        x = F.relu(F.max_pool2d(self.conv2_drop(self.conv2(x)), 2))\n",
    "        x = x.view(-1, 320)\n",
    "        x = F.relu(self.fc1(x))\n",
    "        x = F.dropout(x, training=self.training)\n",
    "        x = self.fc2(x)\n",
    "        return x"
   ]
  },
  {
   "cell_type": "code",
   "execution_count": 6,
   "id": "41418981-22a7-47c7-90f7-61e6137960c4",
   "metadata": {},
   "outputs": [],
   "source": [
    "model = Net().to(DEVICE)\n",
    "optimizer = optim.SGD(model.parameters(), lr=0.01, momentum=0.5)"
   ]
  },
  {
   "cell_type": "markdown",
   "id": "75271392-9b49-496e-bd86-dc508b51d9a4",
   "metadata": {},
   "source": [
    "#### 학습하기"
   ]
  },
  {
   "cell_type": "code",
   "execution_count": 7,
   "id": "5bce0b99-19db-4828-bb53-81c016a9f19f",
   "metadata": {},
   "outputs": [],
   "source": [
    "def train(model, train_loader, optimizer, epoch):\n",
    "    model.train()\n",
    "    for batch_idx, (data, target) in enumerate(train_loader):\n",
    "        data, target = data.to(DEVICE), target.to(DEVICE)\n",
    "        optimizer.zero_grad()\n",
    "        output = model(data)\n",
    "        loss = F.cross_entropy(output, target)\n",
    "        loss.backward()\n",
    "        optimizer.step()\n",
    "\n",
    "        if batch_idx % 200 == 0:\n",
    "            print('Train Epoch: {} [{}/{} ({:.0f}%)]\\tLoss: {:.6f}'.format(\n",
    "                epoch, batch_idx * len(data), len(train_loader.dataset),\n",
    "                100. * batch_idx / len(train_loader), loss.item()))"
   ]
  },
  {
   "cell_type": "markdown",
   "id": "ad7c413a-a2f2-4b3c-848c-fe7e2db6f6c2",
   "metadata": {},
   "source": [
    "#### 테스트하기"
   ]
  },
  {
   "cell_type": "code",
   "execution_count": 8,
   "id": "dbdc3719-18de-4d63-9f85-fa9104797a4f",
   "metadata": {},
   "outputs": [],
   "source": [
    "def evaluate(model, test_loader):\n",
    "    model.eval()\n",
    "    test_loss = 0\n",
    "    correct = 0\n",
    "    with torch.no_grad():\n",
    "        for data, target in test_loader:\n",
    "            data, target = data.to(DEVICE), target.to(DEVICE)\n",
    "            output = model(data)\n",
    "\n",
    "            # 배치 오차를 합산\n",
    "            test_loss += F.cross_entropy(output, target,\n",
    "                                         reduction='sum').item()\n",
    "\n",
    "            # 가장 높은 값을 가진 인덱스가 바로 예측값\n",
    "            pred = output.max(1, keepdim=True)[1]\n",
    "            correct += pred.eq(target.view_as(pred)).sum().item()\n",
    "\n",
    "    test_loss /= len(test_loader.dataset)\n",
    "    test_accuracy = 100. * correct / len(test_loader.dataset)\n",
    "    return test_loss, test_accuracy"
   ]
  },
  {
   "cell_type": "code",
   "execution_count": 9,
   "id": "0a0def28-ff9b-45a1-939d-7224583538ce",
   "metadata": {},
   "outputs": [
    {
     "name": "stdout",
     "output_type": "stream",
     "text": [
      "Train Epoch: 1 [0/60000 (0%)]\tLoss: 2.316996\n",
      "Train Epoch: 1 [12800/60000 (21%)]\tLoss: 1.239870\n",
      "Train Epoch: 1 [25600/60000 (43%)]\tLoss: 0.840894\n",
      "Train Epoch: 1 [38400/60000 (64%)]\tLoss: 0.519204\n",
      "Train Epoch: 1 [51200/60000 (85%)]\tLoss: 0.529822\n",
      "[1] Test Loss: 0.1927, Accuracy: 94.18%\n",
      "Train Epoch: 2 [0/60000 (0%)]\tLoss: 0.275453\n",
      "Train Epoch: 2 [12800/60000 (21%)]\tLoss: 0.251754\n",
      "Train Epoch: 2 [25600/60000 (43%)]\tLoss: 0.413641\n",
      "Train Epoch: 2 [38400/60000 (64%)]\tLoss: 0.275830\n",
      "Train Epoch: 2 [51200/60000 (85%)]\tLoss: 0.185384\n",
      "[2] Test Loss: 0.1289, Accuracy: 96.00%\n",
      "Train Epoch: 3 [0/60000 (0%)]\tLoss: 0.316581\n",
      "Train Epoch: 3 [12800/60000 (21%)]\tLoss: 0.583790\n",
      "Train Epoch: 3 [25600/60000 (43%)]\tLoss: 0.220154\n",
      "Train Epoch: 3 [38400/60000 (64%)]\tLoss: 0.273947\n",
      "Train Epoch: 3 [51200/60000 (85%)]\tLoss: 0.568021\n",
      "[3] Test Loss: 0.0970, Accuracy: 97.01%\n",
      "Train Epoch: 4 [0/60000 (0%)]\tLoss: 0.245578\n",
      "Train Epoch: 4 [12800/60000 (21%)]\tLoss: 0.258500\n",
      "Train Epoch: 4 [25600/60000 (43%)]\tLoss: 0.300114\n",
      "Train Epoch: 4 [38400/60000 (64%)]\tLoss: 0.145533\n",
      "Train Epoch: 4 [51200/60000 (85%)]\tLoss: 0.345658\n",
      "[4] Test Loss: 0.0821, Accuracy: 97.41%\n",
      "Train Epoch: 5 [0/60000 (0%)]\tLoss: 0.589222\n",
      "Train Epoch: 5 [12800/60000 (21%)]\tLoss: 0.223577\n",
      "Train Epoch: 5 [25600/60000 (43%)]\tLoss: 0.252847\n",
      "Train Epoch: 5 [38400/60000 (64%)]\tLoss: 0.203915\n",
      "Train Epoch: 5 [51200/60000 (85%)]\tLoss: 0.186292\n",
      "[5] Test Loss: 0.0750, Accuracy: 97.56%\n",
      "Train Epoch: 6 [0/60000 (0%)]\tLoss: 0.112426\n",
      "Train Epoch: 6 [12800/60000 (21%)]\tLoss: 0.176601\n",
      "Train Epoch: 6 [25600/60000 (43%)]\tLoss: 0.231621\n",
      "Train Epoch: 6 [38400/60000 (64%)]\tLoss: 0.201416\n",
      "Train Epoch: 6 [51200/60000 (85%)]\tLoss: 0.132339\n",
      "[6] Test Loss: 0.0633, Accuracy: 98.02%\n",
      "Train Epoch: 7 [0/60000 (0%)]\tLoss: 0.179952\n",
      "Train Epoch: 7 [12800/60000 (21%)]\tLoss: 0.093228\n",
      "Train Epoch: 7 [25600/60000 (43%)]\tLoss: 0.129060\n",
      "Train Epoch: 7 [38400/60000 (64%)]\tLoss: 0.085484\n",
      "Train Epoch: 7 [51200/60000 (85%)]\tLoss: 0.076296\n",
      "[7] Test Loss: 0.0623, Accuracy: 97.88%\n",
      "Train Epoch: 8 [0/60000 (0%)]\tLoss: 0.223183\n",
      "Train Epoch: 8 [12800/60000 (21%)]\tLoss: 0.285320\n",
      "Train Epoch: 8 [25600/60000 (43%)]\tLoss: 0.221336\n",
      "Train Epoch: 8 [38400/60000 (64%)]\tLoss: 0.105086\n",
      "Train Epoch: 8 [51200/60000 (85%)]\tLoss: 0.207412\n",
      "[8] Test Loss: 0.0573, Accuracy: 98.27%\n",
      "Train Epoch: 9 [0/60000 (0%)]\tLoss: 0.106388\n",
      "Train Epoch: 9 [12800/60000 (21%)]\tLoss: 0.109188\n",
      "Train Epoch: 9 [25600/60000 (43%)]\tLoss: 0.252144\n",
      "Train Epoch: 9 [38400/60000 (64%)]\tLoss: 0.176427\n",
      "Train Epoch: 9 [51200/60000 (85%)]\tLoss: 0.291474\n",
      "[9] Test Loss: 0.0550, Accuracy: 98.24%\n",
      "Train Epoch: 10 [0/60000 (0%)]\tLoss: 0.247506\n",
      "Train Epoch: 10 [12800/60000 (21%)]\tLoss: 0.160078\n",
      "Train Epoch: 10 [25600/60000 (43%)]\tLoss: 0.147545\n",
      "Train Epoch: 10 [38400/60000 (64%)]\tLoss: 0.062477\n",
      "Train Epoch: 10 [51200/60000 (85%)]\tLoss: 0.293079\n",
      "[10] Test Loss: 0.0517, Accuracy: 98.35%\n"
     ]
    }
   ],
   "source": [
    "for epoch in range(1, EPOCHS + 1):\n",
    "    train(model, train_loader, optimizer, epoch)\n",
    "    test_loss, test_accuracy = evaluate(model, test_loader)\n",
    "    \n",
    "    print('[{}] Test Loss: {:.4f}, Accuracy: {:.2f}%'.format(\n",
    "          epoch, test_loss, test_accuracy))"
   ]
  },
  {
   "cell_type": "markdown",
   "id": "1361d80e-efa7-43ba-953e-570c86382c98",
   "metadata": {},
   "source": [
    "# ResNet"
   ]
  },
  {
   "cell_type": "code",
   "execution_count": 10,
   "id": "6d218901-eb54-49cd-a1c4-3fbef6198b67",
   "metadata": {},
   "outputs": [],
   "source": [
    "import torch\n",
    "import torch.nn as nn\n",
    "import torch.optim as optim\n",
    "import torch.nn.functional as F\n",
    "from torchvision import transforms, datasets, models"
   ]
  },
  {
   "cell_type": "code",
   "execution_count": 11,
   "id": "0fd977d9-f092-4447-88e7-53219c75eb9d",
   "metadata": {},
   "outputs": [],
   "source": [
    "USE_CUDA = torch.cuda.is_available()\n",
    "DEVICE = torch.device(\"cuda\" if USE_CUDA else \"cpu\")"
   ]
  },
  {
   "cell_type": "code",
   "execution_count": 12,
   "id": "271c559c-675e-4550-a36c-25edae759ec5",
   "metadata": {},
   "outputs": [],
   "source": [
    "EPOCHS = 300\n",
    "BATCH_SIZE = 128"
   ]
  },
  {
   "cell_type": "code",
   "execution_count": 13,
   "id": "b273af27-bba6-4896-83b3-d33e89328f0c",
   "metadata": {},
   "outputs": [
    {
     "name": "stdout",
     "output_type": "stream",
     "text": [
      "Downloading https://www.cs.toronto.edu/~kriz/cifar-10-python.tar.gz to ./.data/cifar-10-python.tar.gz\n"
     ]
    },
    {
     "name": "stderr",
     "output_type": "stream",
     "text": [
      "100%|████████████████████████| 170498071/170498071 [00:19<00:00, 8942373.39it/s]\n"
     ]
    },
    {
     "name": "stdout",
     "output_type": "stream",
     "text": [
      "Extracting ./.data/cifar-10-python.tar.gz to ./.data\n"
     ]
    }
   ],
   "source": [
    "train_loader = torch.utils.data.DataLoader(\n",
    "    datasets.CIFAR10('./.data',\n",
    "                   train=True,\n",
    "                   download=True,\n",
    "                   transform=transforms.Compose([\n",
    "                       transforms.RandomCrop(32, padding=4),\n",
    "                       transforms.RandomHorizontalFlip(),\n",
    "                       transforms.ToTensor(),\n",
    "                       transforms.Normalize((0.5, 0.5, 0.5),\n",
    "                                            (0.5, 0.5, 0.5))])),\n",
    "    batch_size=BATCH_SIZE, shuffle=True)\n",
    "test_loader = torch.utils.data.DataLoader(\n",
    "    datasets.CIFAR10('./.data',\n",
    "                   train=False, \n",
    "                   transform=transforms.Compose([\n",
    "                       transforms.ToTensor(),\n",
    "                       transforms.Normalize((0.5, 0.5, 0.5),\n",
    "                                            (0.5, 0.5, 0.5))])),\n",
    "    batch_size=BATCH_SIZE, shuffle=True)"
   ]
  },
  {
   "cell_type": "markdown",
   "id": "d9e8f3f6-6cc7-490e-b134-2988820b0203",
   "metadata": {},
   "source": [
    "- 여러 단계의 신경망을 거치며 최초 입력 이미지에 대한 정보가 소실되기 때문에 무작정 신경망을 여러 개 겹친다고 학습 성능이 무한히 좋아지지 않는다\n",
    "- ResNet 의 핵심은 네트워크를 작은 블록인 Residual 블록으로 나눈 것\n",
    "    - Residual 블록의 출력에 입력이였던 x 를 더함으로써 모델을 더 깊게 설계 가능 \n",
    "        - 입력과 출력의 관계를 바로 학습하기보다 입력과 출력의 차이를 따로 학습하는게 성능이 좋다는 가설"
   ]
  },
  {
   "cell_type": "markdown",
   "id": "1446a788-a504-4677-89d2-62340323f570",
   "metadata": {},
   "source": [
    "## ResNet 모델 만들기"
   ]
  },
  {
   "cell_type": "code",
   "execution_count": null,
   "id": "3d906d77-7c62-4fb7-b858-e50a70c2c9e6",
   "metadata": {},
   "outputs": [],
   "source": [
    "class BasicBlock(nn.Module):\n",
    "    def __init__(self, in_planes, planes, stride=1):\n",
    "        super(BasicBlock, self).__init__()\n",
    "        self.conv1 = nn.Conv2d(in_planes, planes, kernel_size=3,\n",
    "                               stride=stride, padding=1, bias=False)\n",
    "        self.bn1 = nn.BatchNorm2d(planes)\n",
    "        self.conv2 = nn.Conv2d(planes, planes, kernel_size=3,\n",
    "                               stride=1, padding=1, bias=False)\n",
    "        self.bn2 = nn.BatchNorm2d(planes)\n",
    "        \n",
    "        \n",
    "        \n",
    "        \n",
    "    "
   ]
  }
 ],
 "metadata": {
  "kernelspec": {
   "display_name": "Python 3 (ipykernel)",
   "language": "python",
   "name": "python3"
  },
  "language_info": {
   "codemirror_mode": {
    "name": "ipython",
    "version": 3
   },
   "file_extension": ".py",
   "mimetype": "text/x-python",
   "name": "python",
   "nbconvert_exporter": "python",
   "pygments_lexer": "ipython3",
   "version": "3.8.16"
  }
 },
 "nbformat": 4,
 "nbformat_minor": 5
}
